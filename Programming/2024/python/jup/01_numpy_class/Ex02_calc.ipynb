{
 "cells": [
  {
   "cell_type": "markdown",
   "metadata": {},
   "source": [
    "# numpy 연산\n",
    "\n",
    "\n",
    "+ abs / fabs : 절대값\n",
    "+ sqrt\t: 제곱근\n",
    "+ square\t: 제곱\n",
    "+ exp\t : 지수\n",
    "+ ceil / floor : 소수자릿수 올림/내림\n",
    "+ rint\t:소수자릿수 반올림\n",
    "+ modf\t: 원소의 몫과 나머지를 각 배열로 변환\n",
    "+ lsnan\t: 각 원소가 Nan인지 아닌지 불린 배열로 리턴\n",
    "\n",
    "+ add / subtract\t: 두 배열의 같은 위치의 요소끼리 덧셈/뺄셈\n",
    "+ multiply\t: 배열 원소끼리 곱셉\n",
    "+ divide\t: 첫번째 배열의 원소에서 두번째 배열 원소로 나눔\n",
    "+ power\t: 첫번째 배열의 원소에 두번째 배열의 원소만큼 제곱\n",
    "+ maximum\t: 비교하는 두 원소 중 큰 값\n",
    "+ mod\t: 첫번째 배열의 원소에서 두번째 배열 원소로 나눈 나머지\n",
    "\n"
   ]
  },
  {
   "cell_type": "markdown",
   "metadata": {},
   "source": [
    "###  선형대수 연산"
   ]
  },
  {
   "cell_type": "code",
   "execution_count": 3,
   "metadata": {},
   "outputs": [
    {
     "name": "stdout",
     "output_type": "stream",
     "text": [
      "[[2 3 4]\n",
      " [6 7 8]]\n",
      "[[0 1 2]\n",
      " [2 3 4]]\n",
      "[[ 1  2  3]\n",
      " [ 8 10 12]]\n",
      "[[1.  2.  3. ]\n",
      " [2.  2.5 3. ]]\n",
      "[[1 2 3]\n",
      " [2 2 3]]\n",
      "[[0 0 0]\n",
      " [0 1 0]]\n"
     ]
    }
   ],
   "source": [
    "import numpy as np\n",
    "\n",
    "# (1) 배열의 연산\n",
    "arr1 = np.array([[1,2,3]\n",
    "                 ,[4,5,6]])\n",
    "arr2 = np.array([[1,1,1]\n",
    "                 ,[2,2,2]])\n",
    "\n",
    "\n",
    "print(arr1 + arr2)\n",
    "print(arr1 - arr2)\n",
    "print(arr1 * arr2)   # 행렬의 연산이 아님. 각 요소의 곱\n",
    "print(arr1 ** arr2)  # 행렬의 연산은 \n",
    "print(arr1 / arr2)\n",
    "print(arr1 // arr2)\n",
    "print(arr1 % arr2)"
   ]
  },
  {
   "cell_type": "code",
   "execution_count": 7,
   "metadata": {},
   "outputs": [
    {
     "data": {
      "text/plain": [
       "array([[ 58,  64],\n",
       "       [139, 154]])"
      ]
     },
     "execution_count": 7,
     "metadata": {},
     "output_type": "execute_result"
    }
   ],
   "source": [
    "# (2) 행렬의 곱\n",
    "\n",
    "A = np.array(\n",
    "    [[1, 2, 3],\n",
    "    [4, 5, 6]])\n",
    "B = np.array(\n",
    "    [[7,8],\n",
    "     [9,10],\n",
    "     [11, 12]])\n",
    "\n",
    "np.dot(A,B)"
   ]
  },
  {
   "cell_type": "code",
   "execution_count": 9,
   "metadata": {},
   "outputs": [
    {
     "data": {
      "text/plain": [
       "array([[1, 4],\n",
       "       [2, 5],\n",
       "       [3, 6]])"
      ]
     },
     "execution_count": 9,
     "metadata": {},
     "output_type": "execute_result"
    }
   ],
   "source": [
    "# (3) 전치행렬\n",
    "#       - 원 행렬에서 행과 열 위치를 교환한 원소로 구성한 행렬\n",
    "A = np.array(\n",
    "    [[1, 2, 3],\n",
    "    [4, 5, 6]])\n",
    "\n",
    "np.transpose(A) # 2-3 -> 3-2"
   ]
  },
  {
   "cell_type": "code",
   "execution_count": 10,
   "metadata": {},
   "outputs": [
    {
     "name": "stdout",
     "output_type": "stream",
     "text": [
      "[[1 2 3]\n",
      " [4 5 6]]\n",
      "[[1 4]\n",
      " [2 5]\n",
      " [3 6]]\n",
      "[[1 4]\n",
      " [2 5]\n",
      " [3 6]]\n"
     ]
    }
   ],
   "source": [
    "print(A)\n",
    "print(np.transpose(A))\n",
    "print(A.T)"
   ]
  },
  {
   "cell_type": "markdown",
   "metadata": {},
   "source": [
    "### 넘파이 통계 함수\n",
    "\n",
    "+ sum\t: 배열 원소들의 합\n",
    "+ mean :산술 평균\n",
    "+ std / var\t: 표준편차 / 분산\n",
    "+ min / max\t: 최소 값 / 최대 값\n",
    "+ cumsum\t: 각 원소의 누적값\n",
    "+ cumprod\t: 각 원소의 누적곱\n"
   ]
  },
  {
   "cell_type": "code",
   "execution_count": 14,
   "metadata": {},
   "outputs": [],
   "source": [
    "import numpy as np\n",
    "\n",
    "ar = np.array([1,3,5,7])"
   ]
  },
  {
   "cell_type": "code",
   "execution_count": 15,
   "metadata": {},
   "outputs": [
    {
     "data": {
      "text/plain": [
       "4.0"
      ]
     },
     "execution_count": 15,
     "metadata": {},
     "output_type": "execute_result"
    }
   ],
   "source": [
    "# 평균\n",
    "np.mean(ar)"
   ]
  },
  {
   "cell_type": "code",
   "execution_count": 16,
   "metadata": {},
   "outputs": [
    {
     "data": {
      "text/plain": [
       "16"
      ]
     },
     "execution_count": 16,
     "metadata": {},
     "output_type": "execute_result"
    }
   ],
   "source": [
    "# 총합\n",
    "np.sum(ar)"
   ]
  },
  {
   "cell_type": "code",
   "execution_count": 18,
   "metadata": {
    "scrolled": true
   },
   "outputs": [
    {
     "data": {
      "text/plain": [
       "7"
      ]
     },
     "execution_count": 18,
     "metadata": {},
     "output_type": "execute_result"
    }
   ],
   "source": [
    "# 큰값\n",
    "np.max(ar)"
   ]
  },
  {
   "cell_type": "code",
   "execution_count": 17,
   "metadata": {},
   "outputs": [
    {
     "data": {
      "text/plain": [
       "array([  1,   3,  15, 105])"
      ]
     },
     "execution_count": 17,
     "metadata": {},
     "output_type": "execute_result"
    }
   ],
   "source": [
    "# 각 원소의 누적곱\n",
    "np.cumprod(ar)"
   ]
  },
  {
   "cell_type": "markdown",
   "metadata": {},
   "source": [
    "#### 2차원 배열에서"
   ]
  },
  {
   "cell_type": "code",
   "execution_count": 19,
   "metadata": {},
   "outputs": [
    {
     "data": {
      "text/plain": [
       "array([[1, 2, 3],\n",
       "       [4, 5, 6]])"
      ]
     },
     "execution_count": 19,
     "metadata": {},
     "output_type": "execute_result"
    }
   ],
   "source": [
    "# 2차원 배열을 arr 생성\n",
    "arr = np.array([[1,2,3],[4,5,6]])\n",
    "arr"
   ]
  },
  {
   "cell_type": "code",
   "execution_count": 26,
   "metadata": {},
   "outputs": [
    {
     "name": "stdout",
     "output_type": "stream",
     "text": [
      "[5 7 9]\n"
     ]
    },
    {
     "data": {
      "text/plain": [
       "array([ 6, 15])"
      ]
     },
     "execution_count": 26,
     "metadata": {},
     "output_type": "execute_result"
    }
   ],
   "source": [
    "# 총합\n",
    "np.sum(arr)\n",
    "\n",
    "#  특정 행의 합\n",
    "np.sum(arr[1])\n",
    "# axis=0 : 행방향 - 열단위 합\n",
    "hang = np.sum(arr, axis=0)\n",
    "print(hang)\n",
    "# axis=1 : 열방향 - 행단위 합\n",
    "np.sum(arr, axis=1)"
   ]
  },
  {
   "cell_type": "code",
   "execution_count": 27,
   "metadata": {},
   "outputs": [
    {
     "data": {
      "text/plain": [
       "array([22, 33, 44])"
      ]
     },
     "execution_count": 27,
     "metadata": {},
     "output_type": "execute_result"
    }
   ],
   "source": [
    "# 불린 배열에서의 배열 : 조건을 넣어 ture, false\n",
    "arr2 = np.array([[12, 7, 22], [20,33, 44], [4,5,6]])\n",
    "arr2\n",
    "\n",
    "arr2[arr2 > 20] # 20 이상인 애들만 true로 새로 추출"
   ]
  },
  {
   "cell_type": "code",
   "execution_count": 30,
   "metadata": {},
   "outputs": [
    {
     "data": {
      "text/plain": [
       "array(['가산', '서울', '판교'], dtype='<U2')"
      ]
     },
     "execution_count": 30,
     "metadata": {},
     "output_type": "execute_result"
    }
   ],
   "source": [
    "# unique 연산자를 이용하여 중복제거\n",
    "region = np.array(['가산','서울','서울','판교','가산'])\n",
    "region\n",
    "np.unique(region)"
   ]
  },
  {
   "cell_type": "markdown",
   "metadata": {},
   "source": [
    "### 행렬의 정렬 "
   ]
  },
  {
   "cell_type": "code",
   "execution_count": 33,
   "metadata": {},
   "outputs": [
    {
     "data": {
      "text/plain": [
       "array([9, 8, 7, 6, 6, 5, 4, 3, 2, 1])"
      ]
     },
     "execution_count": 33,
     "metadata": {},
     "output_type": "execute_result"
    }
   ],
   "source": [
    "arr = np.array([9,3,6,1,7,2,4,8,5,6])\n",
    "arr\n",
    "\n",
    "np.sort(arr) # 원래 배열을 바꾸지않는다.\n",
    "np.sort(arr)[::-1]"
   ]
  },
  {
   "cell_type": "code",
   "execution_count": 36,
   "metadata": {},
   "outputs": [
    {
     "data": {
      "text/plain": [
       "array([[3, 6, 9],\n",
       "       [1, 2, 7],\n",
       "       [4, 5, 8]])"
      ]
     },
     "execution_count": 36,
     "metadata": {},
     "output_type": "execute_result"
    }
   ],
   "source": [
    "arr2 = np.array([[9,3,6],\n",
    "                 [1,7,2],\n",
    "                 [4,8,5]])\n",
    "arr2\n",
    "\n",
    "np.sort(arr2) # each list sort\n",
    "np.sort(arr2,axis=0) # compare arr2[0] value in each list\n",
    "np.sort(arr2,axis=1) # same with first"
   ]
  },
  {
   "cell_type": "code",
   "execution_count": null,
   "metadata": {},
   "outputs": [],
   "source": []
  }
 ],
 "metadata": {
  "kernelspec": {
   "display_name": "Python 3 (ipykernel)",
   "language": "python",
   "name": "python3"
  },
  "language_info": {
   "codemirror_mode": {
    "name": "ipython",
    "version": 3
   },
   "file_extension": ".py",
   "mimetype": "text/x-python",
   "name": "python",
   "nbconvert_exporter": "python",
   "pygments_lexer": "ipython3",
   "version": "3.11.7"
  }
 },
 "nbformat": 4,
 "nbformat_minor": 4
}

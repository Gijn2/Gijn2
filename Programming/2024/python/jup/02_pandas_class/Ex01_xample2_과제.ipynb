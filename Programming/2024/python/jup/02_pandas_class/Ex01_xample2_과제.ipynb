{
 "cells": [
  {
   "cell_type": "markdown",
   "metadata": {},
   "source": [
    "## [예제] 미국 대통령 당선 정보에서 정당 정보를 도출하여 시각하 하기\n",
    "\n",
    "\n",
    "### * 불러온 데이타집합의 정보 확인하기\n",
    "\n",
    "- type(df)  : 데이타 타입\n",
    "- df.shape  : 행과 열의 수\n",
    "- df.columns : 컬럼명 확인\n",
    "- df.dtypes : 각각의 컬럼 데이타타입\n",
    "- df.info() : df.dtypes 비슷\n",
    "- df.info\n",
    "- df.head()\n",
    "- df.tail()\n",
    "\n",
    "\n",
    "### 파이썬과 판다스 자료형 비교\n",
    "    int         int64\n",
    "    float       float64\n",
    "    string      object(****)\n",
    "\n",
    "###  당선된 각 정당(Political Party) 수를 먼저 구해야 한다\n",
    "\n",
    "- value_counts() 이용\n",
    "\n",
    "- 원그래프 출력\n",
    "\n",
    "\n",
    "### [연습] 데이타셋에서 다른 인사이드를 도출하여 시각화하기\n",
    "\n"
   ]
  },
  {
   "cell_type": "code",
   "execution_count": 3,
   "metadata": {},
   "outputs": [],
   "source": [
    "import pandas as pd"
   ]
  },
  {
   "cell_type": "code",
   "execution_count": 4,
   "metadata": {},
   "outputs": [
    {
     "data": {
      "text/html": [
       "<div>\n",
       "<style scoped>\n",
       "    .dataframe tbody tr th:only-of-type {\n",
       "        vertical-align: middle;\n",
       "    }\n",
       "\n",
       "    .dataframe tbody tr th {\n",
       "        vertical-align: top;\n",
       "    }\n",
       "\n",
       "    .dataframe thead th {\n",
       "        text-align: right;\n",
       "    }\n",
       "</style>\n",
       "<table border=\"1\" class=\"dataframe\">\n",
       "  <thead>\n",
       "    <tr style=\"text-align: right;\">\n",
       "      <th></th>\n",
       "      <th>President</th>\n",
       "      <th>Years in office</th>\n",
       "      <th>Year first inaugurated</th>\n",
       "      <th>Age at inauguration</th>\n",
       "      <th>State elected from</th>\n",
       "      <th># of electoral votes</th>\n",
       "      <th># of popular votes</th>\n",
       "      <th>National total votes</th>\n",
       "      <th>Total electoral votes</th>\n",
       "      <th>Rating points</th>\n",
       "      <th>Political Party</th>\n",
       "      <th>Occupation</th>\n",
       "      <th>College</th>\n",
       "      <th>% electoral</th>\n",
       "      <th>% popular</th>\n",
       "    </tr>\n",
       "  </thead>\n",
       "  <tbody>\n",
       "    <tr>\n",
       "      <th>0</th>\n",
       "      <td>George Washington</td>\n",
       "      <td>8.0</td>\n",
       "      <td>1789</td>\n",
       "      <td>57</td>\n",
       "      <td>Virginia</td>\n",
       "      <td>69</td>\n",
       "      <td>NA()</td>\n",
       "      <td>NA()</td>\n",
       "      <td>69</td>\n",
       "      <td>842.0</td>\n",
       "      <td>NaN</td>\n",
       "      <td>Planter</td>\n",
       "      <td>NaN</td>\n",
       "      <td>100.000000</td>\n",
       "      <td>NA()</td>\n",
       "    </tr>\n",
       "    <tr>\n",
       "      <th>1</th>\n",
       "      <td>John Adams</td>\n",
       "      <td>4.0</td>\n",
       "      <td>1797</td>\n",
       "      <td>61</td>\n",
       "      <td>Massachusetts</td>\n",
       "      <td>132</td>\n",
       "      <td>NA()</td>\n",
       "      <td>NA()</td>\n",
       "      <td>139</td>\n",
       "      <td>598.0</td>\n",
       "      <td>Federalist</td>\n",
       "      <td>Lawyer</td>\n",
       "      <td>Harvard</td>\n",
       "      <td>94.964029</td>\n",
       "      <td>NA()</td>\n",
       "    </tr>\n",
       "    <tr>\n",
       "      <th>2</th>\n",
       "      <td>Thomas Jefferson</td>\n",
       "      <td>8.0</td>\n",
       "      <td>1801</td>\n",
       "      <td>57</td>\n",
       "      <td>Virginia</td>\n",
       "      <td>73</td>\n",
       "      <td>NA()</td>\n",
       "      <td>NA()</td>\n",
       "      <td>137</td>\n",
       "      <td>711.0</td>\n",
       "      <td>Democratic-Republican</td>\n",
       "      <td>Planter, Lawyer</td>\n",
       "      <td>William and Mary</td>\n",
       "      <td>53.284672</td>\n",
       "      <td>NA()</td>\n",
       "    </tr>\n",
       "    <tr>\n",
       "      <th>3</th>\n",
       "      <td>James Madison</td>\n",
       "      <td>8.0</td>\n",
       "      <td>1809</td>\n",
       "      <td>57</td>\n",
       "      <td>Virginia</td>\n",
       "      <td>122</td>\n",
       "      <td>NA()</td>\n",
       "      <td>NA()</td>\n",
       "      <td>176</td>\n",
       "      <td>567.0</td>\n",
       "      <td>Democratic-Republican</td>\n",
       "      <td>Lawyer</td>\n",
       "      <td>Princeton</td>\n",
       "      <td>69.318182</td>\n",
       "      <td>NA()</td>\n",
       "    </tr>\n",
       "    <tr>\n",
       "      <th>4</th>\n",
       "      <td>James Monroe</td>\n",
       "      <td>8.0</td>\n",
       "      <td>1817</td>\n",
       "      <td>58</td>\n",
       "      <td>Virginia</td>\n",
       "      <td>183</td>\n",
       "      <td>NA()</td>\n",
       "      <td>NA()</td>\n",
       "      <td>221</td>\n",
       "      <td>602.0</td>\n",
       "      <td>Democratic-Republican</td>\n",
       "      <td>Lawyer</td>\n",
       "      <td>William and Mary</td>\n",
       "      <td>82.805430</td>\n",
       "      <td>NA()</td>\n",
       "    </tr>\n",
       "  </tbody>\n",
       "</table>\n",
       "</div>"
      ],
      "text/plain": [
       "           President  Years in office  Year first inaugurated  \\\n",
       "0  George Washington              8.0                    1789   \n",
       "1         John Adams              4.0                    1797   \n",
       "2   Thomas Jefferson              8.0                    1801   \n",
       "3      James Madison              8.0                    1809   \n",
       "4       James Monroe              8.0                    1817   \n",
       "\n",
       "   Age at inauguration State elected from  # of electoral votes  \\\n",
       "0                   57           Virginia                    69   \n",
       "1                   61      Massachusetts                   132   \n",
       "2                   57           Virginia                    73   \n",
       "3                   57           Virginia                   122   \n",
       "4                   58           Virginia                   183   \n",
       "\n",
       "  # of popular votes National total votes  Total electoral votes  \\\n",
       "0               NA()                 NA()                     69   \n",
       "1               NA()                 NA()                    139   \n",
       "2               NA()                 NA()                    137   \n",
       "3               NA()                 NA()                    176   \n",
       "4               NA()                 NA()                    221   \n",
       "\n",
       "   Rating points        Political Party       Occupation           College  \\\n",
       "0          842.0                    NaN          Planter               NaN   \n",
       "1          598.0             Federalist           Lawyer           Harvard   \n",
       "2          711.0  Democratic-Republican  Planter, Lawyer  William and Mary   \n",
       "3          567.0  Democratic-Republican           Lawyer         Princeton   \n",
       "4          602.0  Democratic-Republican           Lawyer  William and Mary   \n",
       "\n",
       "   % electoral % popular  \n",
       "0   100.000000      NA()  \n",
       "1    94.964029      NA()  \n",
       "2    53.284672      NA()  \n",
       "3    69.318182      NA()  \n",
       "4    82.805430      NA()  "
      ]
     },
     "execution_count": 4,
     "metadata": {},
     "output_type": "execute_result"
    }
   ],
   "source": [
    "df = pd.read_excel('http://qrc.depaul.edu/excel_files/presidents.xlsx')\n",
    "df.head()"
   ]
  },
  {
   "cell_type": "code",
   "execution_count": null,
   "metadata": {},
   "outputs": [],
   "source": [
    "###  [참고] 웹에서 제공하는 데이타를 다운로드하기 \n",
    "\n",
    "# import urllib.request as req\n",
    "\n",
    "# local = './data/president/presidents.xlsx'  # data폴더 밑에 president 폴더가 있어야 한다\n",
    "# url = 'http://qrc.depaul.edu/excel_files/presidents.xlsx'\n",
    "\n",
    "# req.urlretrieve(url,local)\n",
    "# print('다운로드 완료')\n"
   ]
  },
  {
   "cell_type": "markdown",
   "metadata": {},
   "source": [
    "\n",
    "####  데이타 정보 확인하기\n",
    "\n",
    "- print(type(df))  # 데이타 타입\n",
    "- print(df.shape) # 행과 열의 수\n",
    "- print(df.columns) # 컬럼명 확인\n",
    "- print(df.dtypes) # 각각의 컬럼 데이타타입\n",
    "- print(df.info()) # df.dtypes 비슷\n",
    "- print(df.info) # 전체적인 내용을???\n",
    "- print(df.head())\n",
    "- print(df.tail())\n"
   ]
  },
  {
   "cell_type": "markdown",
   "metadata": {},
   "source": [
    "### * 인사이트를 도출하여 정보를 추출하고 시각화"
   ]
  },
  {
   "cell_type": "code",
   "execution_count": 40,
   "metadata": {},
   "outputs": [
    {
     "data": {
      "text/plain": [
       "Political Party\n",
       "Republican               14\n",
       "Democrat                 13\n",
       "Democratic-Republican     4\n",
       "Whig                      2\n",
       "Federalist                1\n",
       "Name: count, dtype: int64"
      ]
     },
     "execution_count": 40,
     "metadata": {},
     "output_type": "execute_result"
    }
   ],
   "source": [
    "pp = df['Political Party'].value_counts()\n",
    "pp"
   ]
  },
  {
   "cell_type": "code",
   "execution_count": 12,
   "metadata": {},
   "outputs": [
    {
     "data": {
      "text/plain": [
       "<Axes: xlabel='Political Party'>"
      ]
     },
     "execution_count": 12,
     "metadata": {},
     "output_type": "execute_result"
    },
    {
     "data": {
      "image/png": "[encoded data removed]",
      "text/plain": [
       "<Figure size 640x480 with 1 Axes>"
      ]
     },
     "metadata": {},
     "output_type": "display_data"
    }
   ],
   "source": [
    "# pp.plot()\n",
    "pp.plot(kind='bar')"
   ]
  },
  {
   "cell_type": "code",
   "execution_count": 13,
   "metadata": {},
   "outputs": [
    {
     "data": {
      "text/plain": [
       "<Axes: ylabel='count'>"
      ]
     },
     "execution_count": 13,
     "metadata": {},
     "output_type": "execute_result"
    },
    {
     "data": {
      "image/png": "[encoded data removed]",
      "text/plain": [
       "<Figure size 640x480 with 1 Axes>"
      ]
     },
     "metadata": {},
     "output_type": "display_data"
    }
   ],
   "source": [
    "pp.plot(kind='pie')"
   ]
  },
  {
   "cell_type": "code",
   "execution_count": 41,
   "metadata": {},
   "outputs": [
    {
     "data": {
      "text/plain": [
       "<Axes: ylabel='Frequency'>"
      ]
     },
     "execution_count": 41,
     "metadata": {},
     "output_type": "execute_result"
    },
    {
     "data": {
      "image/png": "[encoded data removed]",
      "text/plain": [
       "<Figure size 640x480 with 1 Axes>"
      ]
     },
     "metadata": {},
     "output_type": "display_data"
    }
   ],
   "source": [
    "test = df['Age at inauguration'].value_counts()\n",
    "test \n",
    "\n",
    "test.plot(kind='hist')\n"
   ]
  },
  {
   "cell_type": "code",
   "execution_count": 47,
   "metadata": {
    "scrolled": true
   },
   "outputs": [
    {
     "data": {
      "text/plain": [
       "<Axes: ylabel='Frequency'>"
      ]
     },
     "execution_count": 47,
     "metadata": {},
     "output_type": "execute_result"
    },
    {
     "data": {
      "image/png": "[encoded data removed]",
      "text/plain": [
       "<Figure size 640x480 with 1 Axes>"
      ]
     },
     "metadata": {},
     "output_type": "display_data"
    }
   ],
   "source": [
    "test2 = df['# of electoral votes'].value_counts()\n",
    "\n",
    "test2.plot(kind='hist')"
   ]
  },
  {
   "cell_type": "code",
   "execution_count": null,
   "metadata": {},
   "outputs": [],
   "source": []
  }
 ],
 "metadata": {
  "kernelspec": {
   "display_name": "Python 3 (ipykernel)",
   "language": "python",
   "name": "python3"
  },
  "language_info": {
   "codemirror_mode": {
    "name": "ipython",
    "version": 3
   },
   "file_extension": ".py",
   "mimetype": "text/x-python",
   "name": "python",
   "nbconvert_exporter": "python",
   "pygments_lexer": "ipython3",
   "version": "3.11.7"
  }
 },
 "nbformat": 4,
 "nbformat_minor": 4
}

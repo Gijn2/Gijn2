{
 "cells": [
  {
   "cell_type": "code",
   "execution_count": null,
   "id": "87ed8cc0-0dba-4da5-8c75-92d9118a8622",
   "metadata": {},
   "outputs": [],
   "source": [
    "# 앞에 추가해주고싶으면 esc + a"
   ]
  },
  {
   "cell_type": "markdown",
   "id": "95cb6cca-5e93-4547-a0fe-6f59623b126e",
   "metadata": {},
   "source": [
    "# 쉘모드 변경\n",
    "    - Code 쉘로 변경 : esc > y\n",
    "    - Mark down 쉘로 변경 : esc > m\n",
    "\n",
    "## 마크다운 쉘에서 문서 만들기\n",
    "#기본적으로 마크다운이라 부르는 건 다른 언어를 불러 문서를 같이하게 끔 만들어주는?\n",
    "\n",
    "---\n",
    "\n",
    "마크 다운은 txt - 코드가 아님\n",
    "\n",
    "### [예] 서울시 이용객수가 많은 지하철은?\n",
    " - 강남\n",
    " - 홍대\n",
    "    + 성수\n",
    "    + 합정"
   ]
  },
  {
   "cell_type": "code",
   "execution_count": 5,
   "id": "2e0e72e4-8f65-4236-a763-62f147257380",
   "metadata": {},
   "outputs": [],
   "source": [
    "#shift + enter = "
   ]
  },
  {
   "cell_type": "markdown",
   "id": "c1adc58e-a248-4c49-8337-3a97f3d83aaa",
   "metadata": {},
   "source": [
    "* 별표는 번호 없는 목록\n",
    "\n",
    "*별표로 감싸면 기울이기(별표와 띄어쓰기없이)*\n",
    "\n",
    "**별표 두개로 감싸면 굵게(별표와 띄어쓰기없이)**\n",
    "\n",
    "***별표 세개로 감싸면? 굵고 기울여서(별표와 띄어쓰기없이)***\n",
    "\n",
    "---\n",
    "\n",
    "인용문으로 >\n",
    "\n",
    "    안녕하세요"
   ]
  },
  {
   "cell_type": "markdown",
   "id": "052bfd73-50e0-4b78-9193-e4237b5cae3a",
   "metadata": {},
   "source": [
    "<div align='center' > hello world</div><br>\n",
    "<div align='center' > html형식이 markdown에서 적용이 된다.</div>\n",
    "<a src='www.daum.net'>link</a>\n",
    "\n",
    "<img src='dataset/puppy.jpg/'>\n",
    "    \n",
    "[링크걸기](https://www.google.co.kr/images/branding/googlelogo/1x/googlelogo_color_272x92dp.png)\n",
    "\n",
    "<hr>\n",
    "이미지링크\n",
    "\n",
    "![텍스트](https://www.google.co.kr/images/branding/googlelogo/1x/googlelogo_color_272x92dp.png)\n",
    "\n",
    "<hr>\n"
   ]
  },
  {
   "cell_type": "markdown",
   "id": "d2b6d192-4a7b-4502-9fda-aa756f2735e0",
   "metadata": {},
   "source": [
    "##     <div align='center'><font color='red'> 중요 데이터<font> </div>\n",
    "<table border='2'>\n",
    "    <tr>\n",
    "        <td>인덱스</td>\n",
    "        <td>인덱스</td>\n",
    "    </tr>\n",
    "    <tr>\n",
    "         <td>1</td>\n",
    "         <td>data</td>\n",
    "    </tr>"
   ]
  },
  {
   "cell_type": "code",
   "execution_count": null,
   "id": "477a5aad-7dfc-450b-a59c-7606e965cccf",
   "metadata": {},
   "outputs": [],
   "source": []
  }
 ],
 "metadata": {
  "kernelspec": {
   "display_name": "Python 3 (ipykernel)",
   "language": "python",
   "name": "python3"
  },
  "language_info": {
   "codemirror_mode": {
    "name": "ipython",
    "version": 3
   },
   "file_extension": ".py",
   "mimetype": "text/x-python",
   "name": "python",
   "nbconvert_exporter": "python",
   "pygments_lexer": "ipython3",
   "version": "3.11.7"
  }
 },
 "nbformat": 4,
 "nbformat_minor": 5
}
